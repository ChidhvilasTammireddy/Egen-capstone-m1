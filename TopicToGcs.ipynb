{
 "cells": [
  {
   "cell_type": "code",
   "execution_count": null,
   "id": "a1bd51e6-bc2f-4391-b533-76565295ba88",
   "metadata": {},
   "outputs": [],
   "source": [
    "import base64\n",
    "import logging\n",
    "import pandas as pd\n",
    "import json\n",
    "from google.cloud.storage import Client\n",
    "\n",
    "\n",
    "class LoadToStorage:\n",
    "    def __init__(self,event,context):\n",
    "        self.event=event\n",
    "        self.context=context\n",
    "        self.bucket_name='egen-capstone-chidvilas'\n",
    "\n",
    "    def getLocData(self) -> str:\n",
    "        logging.info(\"Function triggered, retrieving data\")\n",
    "        if data in self.event:\n",
    "            message_chunk=base64.b64decode(self.event['Data']).decode('utf-8')\n",
    "            logging.info(\"Datapoint validated\")\n",
    "            return message_chunk\n",
    "        else:\n",
    "            logging.error(\"No data found\")\n",
    "\n",
    "    def payloadToDf(self,message:str) -> pd.DataFrame:\n",
    "        try:\n",
    "            df=pd.DataFrame(json.loads(message))\n",
    "            if not df.empty:\n",
    "                logging.info(\"DF created\")\n",
    "            else:\n",
    "                logging.info(\"Empty DF created\")\n",
    "        except Exception as e:\n",
    "            logging.error(f\"Error creating DF {str(e)}\")\n",
    "            raise\n",
    "\n",
    "    def TransferToBucket(self,df,filename):\n",
    "        storage_client=Client()\n",
    "        bucket=storage_client.bucket(self.bucket_name)\n",
    "        blob=bucket.blob(f\"{filename}.csv\")\n",
    "        blob.upload_from_string(data=df.to_csv(index=False),content_type='text/csv')\n",
    "        logging.info(\"File uploaded to bucket\")\n",
    "\n",
    "\n",
    "\n",
    "\n",
    "def process(event, context):\n",
    "    \"\"\"Triggered from a message on a Cloud Pub/Sub topic.\n",
    "    Args:\n",
    "         event (dict): Event payload.\n",
    "         context (google.cloud.functions.Context): Metadata for the event.\n",
    "    \"\"\"\n",
    "    logging.basicConfig(level=logging.INFO)\n",
    "    service=LoadToStorage(event,context)\n",
    "    message=service.getMsgData()\n",
    "    df=service.payloadToDf(message)\n",
    "    timestamp=str(int(time.time()))\n",
    "    service.uploadToBucket(df,\"egen-capstone-chidvilas\"+str(timestamp))"
   ]
  }
 ],
 "metadata": {
  "kernelspec": {
   "display_name": "Python 3",
   "language": "python",
   "name": "python3"
  },
  "language_info": {
   "codemirror_mode": {
    "name": "ipython",
    "version": 3
   },
   "file_extension": ".py",
   "mimetype": "text/x-python",
   "name": "python",
   "nbconvert_exporter": "python",
   "pygments_lexer": "ipython3",
   "version": "3.8.8"
  }
 },
 "nbformat": 4,
 "nbformat_minor": 5
}
